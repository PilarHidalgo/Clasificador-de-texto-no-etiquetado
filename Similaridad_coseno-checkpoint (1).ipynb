{
 "cells": [
  {
   "cell_type": "code",
   "execution_count": 8,
   "metadata": {},
   "outputs": [],
   "source": [
    "import pandas as pd"
   ]
  },
  {
   "cell_type": "code",
   "execution_count": 18,
   "metadata": {},
   "outputs": [],
   "source": [
    "#data = pd.read_excel('C:/Users/pv.hidalgol/Documents/tfid47.xlsx')#, encoding='latin-1', delimiter='/t')#, error_bad_lines=False);\n",
    "data = pd.read_csv('C:/Users/pv.hidalgol/Documents/tfid47.csv',encoding='latin-1')#, encoding='latin-1', delimiter='/t')#, error_bad_lines=False);"
   ]
  },
  {
   "cell_type": "code",
   "execution_count": 77,
   "metadata": {},
   "outputs": [],
   "source": [
    "corpus=[]\n",
    "for i in range(len(data)):\n",
    "    t=data['delitos'][i]\n",
    "    t = t.split()\n",
    "    t=sorted(t)\n",
    "    j=(' '.join(t))\n",
    "    corpus.append(j)"
   ]
  },
  {
   "cell_type": "code",
   "execution_count": 84,
   "metadata": {},
   "outputs": [],
   "source": [
    "documents=sorted(corpus)"
   ]
  },
  {
   "cell_type": "code",
   "execution_count": 85,
   "metadata": {},
   "outputs": [
    {
     "name": "stdout",
     "output_type": "stream",
     "text": [
      "  (0, 0)\t0.43760148810009064\n",
      "  (0, 1)\t0.43760148810009064\n",
      "  (0, 44)\t0.4725460132052198\n",
      "  (0, 139)\t0.4725460132052198\n",
      "  (0, 502)\t0.4128079529670871\n",
      "  (1, 0)\t0.4264689610950682\n",
      "  (1, 163)\t0.46052450186173105\n",
      "  (1, 646)\t0.46052450186173105\n",
      "  (1, 672)\t0.46052450186173105\n",
      "  (1, 684)\t0.4264689610950682\n",
      "  (2, 1)\t0.443775102738449\n",
      "  (2, 213)\t0.443775102738449\n",
      "  (2, 425)\t0.3831942671140751\n",
      "  (2, 431)\t0.47921261984106\n",
      "  (2, 632)\t0.47921261984106\n",
      "  (3, 2)\t0.4687419519763552\n",
      "  (3, 60)\t0.4687419519763552\n",
      "  (3, 96)\t0.3904082466457276\n",
      "  (3, 426)\t0.4687419519763552\n",
      "  (3, 676)\t0.43407873516586565\n",
      "  (4, 3)\t0.4687419519763552\n",
      "  (4, 283)\t0.4687419519763552\n",
      "  (4, 296)\t0.4687419519763552\n",
      "  (4, 505)\t0.3904082466457276\n",
      "  (4, 623)\t0.43407873516586565\n",
      "  :\t:\n",
      "  (171, 658)\t0.43760148810009064\n",
      "  (171, 369)\t0.4128079529670871\n",
      "  (171, 564)\t0.43760148810009064\n",
      "  (171, 414)\t0.4725460132052198\n",
      "  (171, 489)\t0.4725460132052198\n",
      "  (172, 505)\t0.3904082466457276\n",
      "  (172, 386)\t0.43407873516586565\n",
      "  (172, 511)\t0.4687419519763552\n",
      "  (172, 514)\t0.4687419519763552\n",
      "  (172, 659)\t0.4687419519763552\n",
      "  (173, 387)\t0.4472135954999579\n",
      "  (173, 404)\t0.4472135954999579\n",
      "  (173, 491)\t0.4472135954999579\n",
      "  (173, 522)\t0.4472135954999579\n",
      "  (173, 560)\t0.4472135954999579\n",
      "  (174, 400)\t0.4264689610950682\n",
      "  (174, 674)\t0.4264689610950682\n",
      "  (174, 493)\t0.46052450186173105\n",
      "  (174, 495)\t0.46052450186173105\n",
      "  (174, 668)\t0.46052450186173105\n",
      "  (175, 662)\t0.4201701261643058\n",
      "  (175, 446)\t0.4537226755075922\n",
      "  (175, 498)\t0.4537226755075922\n",
      "  (175, 679)\t0.4537226755075922\n",
      "  (175, 695)\t0.4537226755075922\n"
     ]
    }
   ],
   "source": [
    "from sklearn.feature_extraction.text import TfidfVectorizer\n",
    "tfidf_vectorizer = TfidfVectorizer()\n",
    "tfidf_matrix = tfidf_vectorizer.fit_transform(documents)\n",
    "print(tfidf_matrix)"
   ]
  },
  {
   "cell_type": "code",
   "execution_count": 86,
   "metadata": {},
   "outputs": [
    {
     "data": {
      "text/plain": [
       "array([[1.        , 0.18662345, 0.19419665, 0.        , 0.        ,\n",
       "        0.        , 0.        , 0.        , 0.        , 0.        ,\n",
       "        0.        , 0.        , 0.        , 0.        , 0.        ,\n",
       "        0.        , 0.        , 0.        , 0.        , 0.        ,\n",
       "        0.        , 0.        , 0.        , 0.        , 0.        ,\n",
       "        0.        , 0.        , 0.        , 0.16950428, 0.        ,\n",
       "        0.        , 0.        , 0.        , 0.        , 0.        ,\n",
       "        0.        , 0.        , 0.        , 0.        , 0.        ,\n",
       "        0.        , 0.        , 0.        , 0.        , 0.        ,\n",
       "        0.        , 0.        , 0.        , 0.        , 0.        ,\n",
       "        0.        , 0.        , 0.        , 0.        , 0.        ,\n",
       "        0.        , 0.        , 0.        , 0.        , 0.        ,\n",
       "        0.        , 0.        , 0.        , 0.        , 0.        ,\n",
       "        0.        , 0.        , 0.        , 0.        , 0.        ,\n",
       "        0.        , 0.        , 0.        , 0.        , 0.        ,\n",
       "        0.        , 0.        , 0.        , 0.        , 0.        ,\n",
       "        0.        , 0.        , 0.        , 0.        , 0.        ,\n",
       "        0.        , 0.        , 0.        , 0.        , 0.        ,\n",
       "        0.        , 0.        , 0.        , 0.        , 0.        ,\n",
       "        0.        , 0.        , 0.        , 0.        , 0.        ,\n",
       "        0.        , 0.        , 0.        , 0.17412123, 0.        ,\n",
       "        0.        , 0.        , 0.        , 0.        , 0.        ,\n",
       "        0.        , 0.        , 0.        , 0.        , 0.        ,\n",
       "        0.        , 0.        , 0.        , 0.        , 0.        ,\n",
       "        0.        , 0.        , 0.        , 0.        , 0.        ,\n",
       "        0.        , 0.        , 0.        , 0.        , 0.        ,\n",
       "        0.        , 0.        , 0.        , 0.        , 0.        ,\n",
       "        0.        , 0.        , 0.        , 0.        , 0.        ,\n",
       "        0.        , 0.        , 0.        , 0.        , 0.        ,\n",
       "        0.        , 0.        , 0.        , 0.        , 0.        ,\n",
       "        0.        , 0.        , 0.        , 0.        , 0.        ,\n",
       "        0.        , 0.        , 0.        , 0.        , 0.        ,\n",
       "        0.        , 0.        , 0.        , 0.        , 0.        ,\n",
       "        0.        , 0.        , 0.        , 0.        , 0.        ,\n",
       "        0.        , 0.        , 0.        , 0.        , 0.        ,\n",
       "        0.        ]])"
      ]
     },
     "execution_count": 86,
     "metadata": {},
     "output_type": "execute_result"
    }
   ],
   "source": [
    "from sklearn.metrics.pairwise import cosine_similarity\n",
    "cosine_similarity(tfidf_matrix[0:1], tfidf_matrix)"
   ]
  },
  {
   "cell_type": "code",
   "execution_count": 138,
   "metadata": {},
   "outputs": [
    {
     "name": "stdout",
     "output_type": "stream",
     "text": [
      "79.9724768097504\n"
     ]
    }
   ],
   "source": [
    "import math\n",
    "cos_sim = 0.17412123\n",
    "angle_in_radians = math.acos(cos_sim)\n",
    "print(math.degrees(angle_in_radians))"
   ]
  },
  {
   "cell_type": "code",
   "execution_count": 142,
   "metadata": {},
   "outputs": [],
   "source": [
    "d= 79.15\n",
    "e=78.80\n",
    "f= 80.24\n",
    "g= 79.97"
   ]
  },
  {
   "cell_type": "code",
   "execution_count": 104,
   "metadata": {},
   "outputs": [],
   "source": [
    "cosine = [[ 1., 0.18822],[ 1., 0.19419665],[1., 0.16950428],[1., 0.17412123]]"
   ]
  },
  {
   "cell_type": "code",
   "execution_count": 161,
   "metadata": {},
   "outputs": [
    {
     "data": {
      "image/png": "[encoded data removed]",
      "text/plain": [
       "<Figure size 432x288 with 1 Axes>"
      ]
     },
     "metadata": {},
     "output_type": "display_data"
    }
   ],
   "source": [
    "from matplotlib import pyplot as plt \n",
    "from matplotlib_venn import venn2  \n",
    "diagram = venn2((d, e, f, g),alpha=0.4) \n",
    "diagram.get_label_by_id(\"11\").set_color(\"#888888\") \n",
    "plt.show() "
   ]
  },
  {
   "cell_type": "code",
   "execution_count": 168,
   "metadata": {},
   "outputs": [
    {
     "data": {
      "text/plain": [
       "0.19419665"
      ]
     },
     "execution_count": 168,
     "metadata": {},
     "output_type": "execute_result"
    }
   ],
   "source": [
    "cosine[1][1]"
   ]
  },
  {
   "cell_type": "code",
   "execution_count": 184,
   "metadata": {},
   "outputs": [
    {
     "data": {
      "image/png": "[encoded data removed]",
      "text/plain": [
       "<Figure size 432x288 with 1 Axes>"
      ]
     },
     "metadata": {
      "needs_background": "light"
     },
     "output_type": "display_data"
    }
   ],
   "source": [
    "import matplotlib.pyplot as plt\n",
    "\n",
    "## output of your first part\n",
    "#cosine = [[ 1., 0.18822][ 1., 0.19419665][1., 0.16950428][1., 0.17412123]]\n",
    "\n",
    "## set constants\n",
    "r = 1\n",
    "d = 1 * r * (1 - cosine[0][1])\n",
    "e = 1 * r * (1 - cosine[1][1])\n",
    "f = 1 * r * (1 - cosine[2][1])\n",
    "g = 2 * r * (1 - cosine[3][1])\n",
    "\n",
    "## draw circles\n",
    "\n",
    "circle1=plt.Circle((0, 0), r, alpha=.5)\n",
    "circle2=plt.Circle((d, 0), r, alpha=.5)\n",
    "circle3=plt.Circle((e, 0), r, alpha=.5)\n",
    "circle4=plt.Circle((f, 0), r, alpha=.5)\n",
    "circle5=plt.Circle((g, 0), r, alpha=.5)\n",
    "\n",
    "## set axis limits\n",
    "plt.ylim([-1.1, 1.1])\n",
    "plt.xlim([-1.1, 1.1 + d])\n",
    "plt.ylim([-1.1, 1.1 + e])\n",
    "plt.xlim([-1.1, 1.1 + f])\n",
    "plt.xlim([-1.1, 1.1 + g])\n",
    "fig = plt.gcf()\n",
    "fig.gca().add_artist(circle1)\n",
    "fig.gca().add_artist(circle2)\n",
    "fig.gca().add_artist(circle3)\n",
    "fig.gca().add_artist(circle4)\n",
    "fig.gca().add_artist(circle5)\n",
    "## hide axes if you like\n",
    "\n",
    "\n",
    "fig.savefig('venn_diagramm.png')\n"
   ]
  },
  {
   "cell_type": "code",
   "execution_count": 115,
   "metadata": {},
   "outputs": [
    {
     "name": "stdout",
     "output_type": "stream",
     "text": [
      "Collecting matplotlib_venn\n",
      "  Downloading https://files.pythonhosted.org/packages/c7/05/e084c8331ff7ab8b0e01c7cdb7c18854852340bf3096193510c902ffa1f1/matplotlib-venn-0.11.5.zip (40kB)\n",
      "Requirement already satisfied: matplotlib in c:\\users\\pv.hidalgol\\appdata\\local\\continuum\\anaconda3\\lib\\site-packages (from matplotlib_venn) (2.2.3)\n",
      "Requirement already satisfied: numpy in c:\\users\\pv.hidalgol\\appdata\\local\\continuum\\anaconda3\\lib\\site-packages (from matplotlib_venn) (1.15.1)\n",
      "Requirement already satisfied: scipy in c:\\users\\pv.hidalgol\\appdata\\local\\continuum\\anaconda3\\lib\\site-packages (from matplotlib_venn) (1.1.0)\n",
      "Requirement already satisfied: cycler>=0.10 in c:\\users\\pv.hidalgol\\appdata\\local\\continuum\\anaconda3\\lib\\site-packages (from matplotlib->matplotlib_venn) (0.10.0)\n",
      "Requirement already satisfied: pyparsing!=2.0.4,!=2.1.2,!=2.1.6,>=2.0.1 in c:\\users\\pv.hidalgol\\appdata\\local\\continuum\\anaconda3\\lib\\site-packages (from matplotlib->matplotlib_venn) (2.2.0)\n",
      "Requirement already satisfied: python-dateutil>=2.1 in c:\\users\\pv.hidalgol\\appdata\\local\\continuum\\anaconda3\\lib\\site-packages (from matplotlib->matplotlib_venn) (2.7.3)\n",
      "Requirement already satisfied: pytz in c:\\users\\pv.hidalgol\\appdata\\local\\continuum\\anaconda3\\lib\\site-packages (from matplotlib->matplotlib_venn) (2018.5)\n",
      "Requirement already satisfied: six>=1.10 in c:\\users\\pv.hidalgol\\appdata\\local\\continuum\\anaconda3\\lib\\site-packages (from matplotlib->matplotlib_venn) (1.11.0)\n",
      "Requirement already satisfied: kiwisolver>=1.0.1 in c:\\users\\pv.hidalgol\\appdata\\local\\continuum\\anaconda3\\lib\\site-packages (from matplotlib->matplotlib_venn) (1.0.1)\n",
      "Requirement already satisfied: setuptools in c:\\users\\pv.hidalgol\\appdata\\local\\continuum\\anaconda3\\lib\\site-packages (from kiwisolver>=1.0.1->matplotlib->matplotlib_venn) (40.2.0)\n",
      "Building wheels for collected packages: matplotlib-venn\n",
      "  Running setup.py bdist_wheel for matplotlib-venn: started\n",
      "  Running setup.py bdist_wheel for matplotlib-venn: finished with status 'done'\n",
      "  Stored in directory: C:\\Users\\pv.hidalgol\\AppData\\Local\\pip\\Cache\\wheels\\d8\\88\\2f\\e41518cb16e58109e8d14dc5dd7ef8166c82dce86c7c6d6c80\n",
      "Successfully built matplotlib-venn\n",
      "Installing collected packages: matplotlib-venn\n",
      "Successfully installed matplotlib-venn-0.11.5\n"
     ]
    }
   ],
   "source": [
    "!pip install matplotlib_venn"
   ]
  },
  {
   "cell_type": "code",
   "execution_count": null,
   "metadata": {},
   "outputs": [],
   "source": []
  }
 ],
 "metadata": {
  "kernelspec": {
   "display_name": "Python 2",
   "language": "python",
   "name": "python2"
  },
  "language_info": {
   "codemirror_mode": {
    "name": "ipython",
    "version": 2
   },
   "file_extension": ".py",
   "mimetype": "text/x-python",
   "name": "python",
   "nbconvert_exporter": "python",
   "pygments_lexer": "ipython2",
   "version": "2.7.15"
  }
 },
 "nbformat": 4,
 "nbformat_minor": 2
}
